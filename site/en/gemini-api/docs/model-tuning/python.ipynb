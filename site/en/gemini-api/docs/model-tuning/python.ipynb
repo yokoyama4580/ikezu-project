{
  "cells": [
    {
      "cell_type": "markdown",
      "metadata": {
        "id": "Tce3stUlHN0L"
      },
      "source": [
        "##### Copyright 2024 Google LLC."
      ]
    },
    {
      "cell_type": "code",
      "execution_count": null,
      "metadata": {
        "cellView": "form",
        "id": "tuOe1ymfHZPu"
      },
      "outputs": [],
      "source": [
        "#@title Licensed under the Apache License, Version 2.0 (the \"License\");\n",
        "# you may not use this file except in compliance with the License.\n",
        "# You may obtain a copy of the License at\n",
        "#\n",
        "# https://www.apache.org/licenses/LICENSE-2.0\n",
        "#\n",
        "# Unless required by applicable law or agreed to in writing, software\n",
        "# distributed under the License is distributed on an \"AS IS\" BASIS,\n",
        "# WITHOUT WARRANTIES OR CONDITIONS OF ANY KIND, either express or implied.\n",
        "# See the License for the specific language governing permissions and\n",
        "# limitations under the License."
      ]
    },
    {
      "cell_type": "markdown",
      "metadata": {
        "id": "yeadDkMiISin"
      },
      "source": [
        "# Gemini API: Model tuning with Python"
      ]
    },
    {
      "cell_type": "markdown",
      "metadata": {
        "id": "lEXQ3OwKIa-O"
      },
      "source": [
        "<table class=\"tfo-notebook-buttons\" align=\"left\">\n",
        "  <td>\n",
        "    <a target=\"_blank\" href=\"https://ai.google.dev/gemini-api/docs/model-tuning/python\"><img src=\"https://ai.google.dev/static/site-assets/images/docs/notebook-site-button.png\" height=\"32\" width=\"32\" />View on ai.google.dev</a>\n",
        "  </td>\n",
        "    <td>\n",
        "    <a target=\"_blank\" href=\"https://colab.research.google.com/github/google/generative-ai-docs/blob/main/site/en/gemini-api/docs/model-tuning/python.ipynb\"><img src=\"https://www.tensorflow.org/images/colab_logo_32px.png\" />Run in Google Colab</a>\n",
        "  </td>\n",
        "  <td>\n",
        "    <a target=\"_blank\" href=\"https://github.com/google/generative-ai-docs/blob/main/site/en/gemini-api/docs/model-tuning/python.ipynb\"><img src=\"https://www.tensorflow.org/images/GitHub-Mark-32px.png\" />View source on GitHub</a>\n",
        "  </td>\n",
        "</table>"
      ]
    },
    {
      "cell_type": "markdown",
      "metadata": {
        "id": "Jp_CKyzxUqx6"
      },
      "source": [
        "In this notebook, you'll learn how to get started with the tuning service using the Python client library for the Gemini API. Here, you'll learn how to tune the text model behind the Gemini API's text generation service."
      ]
    },
    {
      "cell_type": "markdown",
      "metadata": {
        "id": "sOz_wyZAlCuQ"
      },
      "source": [
        "## Setup"
      ]
    },
    {
      "cell_type": "markdown",
      "metadata": {
        "id": "aHimx8NGMWDj"
      },
      "source": [
        "### Install the client library"
      ]
    },
    {
      "cell_type": "code",
      "execution_count": 126,
      "metadata": {
        "id": "cbcf72bcb56d"
      },
      "outputs": [],
      "source": [
        "!pip install -q google-generativeai"
      ]
    },
    {
      "cell_type": "markdown",
      "metadata": {
        "id": "jdIYSl2kN0cq"
      },
      "source": [
        "### Import libraries"
      ]
    },
    {
      "cell_type": "code",
      "execution_count": 127,
      "metadata": {
        "id": "8enrppafJPCX"
      },
      "outputs": [],
      "source": [
        "import google.generativeai as genai"
      ]
    },
    {
      "cell_type": "code",
      "execution_count": 144,
      "metadata": {
        "id": "lhqVUjH7ZKUi"
      },
      "outputs": [],
      "source": [
        "from google.colab import userdata\n",
        "genai.configure(api_key=userdata.get('GOOGLE_API_KEY'))"
      ]
    },
    {
      "cell_type": "markdown",
      "metadata": {
        "id": "P-MYZECwlRCq"
      },
      "source": [
        "You can check you existing tuned models with the `genai.list_tuned_model` method."
      ]
    },
    {
      "cell_type": "code",
      "execution_count": 153,
      "metadata": {
        "id": "XyWzoYFxU4r6",
        "outputId": "67d7a226-cb93-4958-db00-9f6c3f498101",
        "colab": {
          "base_uri": "https://localhost:8080/",
          "height": 35
        }
      },
      "outputs": [
        {
          "output_type": "stream",
          "name": "stdout",
          "text": [
            "tunedModels/generate-num-8546\n"
          ]
        }
      ],
      "source": [
        "for i, m in zip(range(5), genai.list_tuned_models()):\n",
        "  print(m.name)"
      ]
    },
    {
      "cell_type": "markdown",
      "metadata": {
        "id": "BhkXRzciv3Dp"
      },
      "source": [
        "## Create tuned model"
      ]
    },
    {
      "cell_type": "markdown",
      "metadata": {
        "id": "OO8VZYAinLWc"
      },
      "source": [
        "To create a tuned model, you need to pass your dataset to the model in the `genai.create_tuned_model` method. You can do this be directly defining the input and output values in the call or importing from a file into a dataframe to pass to the method.\n",
        "\n",
        "For this example, you will tune a model to generate the next number in the sequence. For example, if the input is `1`, the model should output `2`. If the input is `one hundred`, the output should be `one hundred one`."
      ]
    },
    {
      "cell_type": "code",
      "execution_count": 146,
      "metadata": {
        "id": "w-EBSe9wTbLB",
        "outputId": "3e1b7362-d1a8-48fb-a246-40e7ea79b965",
        "colab": {
          "base_uri": "https://localhost:8080/",
          "height": 253
        }
      },
      "outputs": [
        {
          "output_type": "execute_result",
          "data": {
            "text/plain": [
              "Model(name='models/gemini-1.5-flash-001-tuning',\n",
              "      base_model_id='',\n",
              "      version='001',\n",
              "      display_name='Gemini 1.5 Flash 001 Tuning',\n",
              "      description=('Version of Gemini 1.5 Flash that supports tuning, our fast and versatile '\n",
              "                   'multimodal model for scaling across diverse tasks, released in May of 2024.'),\n",
              "      input_token_limit=16384,\n",
              "      output_token_limit=8192,\n",
              "      supported_generation_methods=['generateContent', 'countTokens', 'createTunedModel'],\n",
              "      temperature=1.0,\n",
              "      max_temperature=2.0,\n",
              "      top_p=0.95,\n",
              "      top_k=64)"
            ]
          },
          "metadata": {},
          "execution_count": 146
        }
      ],
      "source": [
        "base_model = [\n",
        "    m for m in genai.list_models()\n",
        "    if \"createTunedModel\" in m.supported_generation_methods and\n",
        "    \"flash\" in m.name][0]\n",
        "base_model"
      ]
    },
    {
      "cell_type": "code",
      "source": [
        "import pandas as pd\n",
        "import json\n",
        "\n",
        "# CSVファイルの読み込み\n",
        "csv_path = \"/honne-ikezu.csv\"\n",
        "df = pd.read_csv(csv_path)\n",
        "\n",
        "# JSONL形式（Pythonのリストとして1行1辞書）に変換\n",
        "jsonl_data = [row.dropna().to_dict() for _, row in df.iterrows()]\n",
        "jsonl_data"
      ],
      "metadata": {
        "id": "ObwCPobe6joA",
        "outputId": "0d377d9c-6d5f-4ef6-acef-a014ddad8f52",
        "colab": {
          "base_uri": "https://localhost:8080/"
        }
      },
      "execution_count": 157,
      "outputs": [
        {
          "output_type": "execute_result",
          "data": {
            "text/plain": [
              "[{'text_input': 'そろそろお帰りください', 'output': 'ぶぶ漬けでもどうどすか？'},\n",
              " {'text_input': '（子供がうるさいので）静かにさせてほしい', 'output': 'お子さん、元気でよろしおすなぁ'},\n",
              " {'text_input': '（ピアノ等の音が）迷惑している', 'output': 'ええ音、聞こえてますえ'},\n",
              " {'text_input': '（高価なものを）見せびらかしているのか', 'output': 'ええネクタイ（鞄/服など）してはりますなぁ'},\n",
              " {'text_input': '独りよがりな考えだ', 'output': 'まあ、よう考えてはりますなぁ'},\n",
              " {'text_input': 'お断りします', 'output': '考えときますわ'},\n",
              " {'text_input': '（社交辞令なので）連絡は期待しないで', 'output': 'また（近いうちにでも）連絡させてもらいます'},\n",
              " {'text_input': '（立派な方が）よくぞ来てくれました（皮肉含むことも）', 'output': 'うちみたいなところへ、ようこそ'},\n",
              " {'text_input': 'できません（やりたくありません）', 'output': 'ちょっと難しいですなぁ'},\n",
              " {'text_input': 'その服、派手すぎない？', 'output': 'まあ、華やかな格好してはりますなぁ'},\n",
              " {'text_input': '少しは自分で考えたら？', 'output': 'よう、人に頼りなはりますなぁ'},\n",
              " {'text_input': '大した手土産でもないのに', 'output': 'まあ、ご丁寧に。そんな気ぃ遣わんでも…'},\n",
              " {'text_input': 'いつまでもお喋りしてないで手伝って', 'output': 'お口だけは達者でよろしおすなぁ'},\n",
              " {'text_input': 'そんなこと、わざわざ言わなくてもいいのに', 'output': 'はっきり言うてくれはって、おおきに'},\n",
              " {'text_input': 'あまり気が進まない、行きたくない', 'output': '行けたら行きますわ'},\n",
              " {'text_input': 'うざいよ', 'output': '元気な人ですなあ'},\n",
              " {'text_input': '田舎者', 'output': '遠いとこから来てはるなあ'},\n",
              " {'text_input': '派手なネクタイしてあんた何考えてんの', 'output': 'まあきれいなネクタイしてはるなあ'},\n",
              " {'text_input': 'そんな格好して恥ずかしくないんかい', 'output': '何を着ても似合わはりますなあ'},\n",
              " {'text_input': 'つまらんこと言うな', 'output': '(うんちくをたれるお客さんに)お客さんよう知ってはりますなあ'},\n",
              " {'text_input': '毎日掃除しろ', 'output': 'きれいにしてはりますなあ'},\n",
              " {'text_input': '派手すぎないか', 'output': 'きれいな柄やねえ'},\n",
              " {'text_input': 'そんな格好恥ずかしくないんか', 'output': '似合いますなあ'},\n",
              " {'text_input': '耳障りだ', 'output': 'その下駄ええ落とさせますなあ'},\n",
              " {'text_input': 'ださい', 'output': '洒落たもん着てんなあ'},\n",
              " {'text_input': '話が長い', 'output': 'ええ時計してますなあ'},\n",
              " {'text_input': '私が怒っている', 'output': 'みんな怒ってはる'},\n",
              " {'text_input': '態度でかいな', 'output': 'はっきりしてますなあ'},\n",
              " {'text_input': '余計なこと言うな', 'output': 'よう勉強してはりますなあ'},\n",
              " {'text_input': '黙れ', 'output': 'よう知ってはりますなあ'},\n",
              " {'text_input': 'はっきりしろ', 'output': '純なお人やなあ'},\n",
              " {'text_input': 'いい加減にしろ', 'output': '堪忍してください'},\n",
              " {'text_input': 'それはおかしい', 'output': '独創的やね'},\n",
              " {'text_input': '下手くそだからやめろ', 'output': 'お上手どすなあ'},\n",
              " {'text_input': '顔がぶさいくですね', 'output': '月がきれいですね'},\n",
              " {'text_input': '仕事が遅い', 'output': '丁寧な仕事してはりますなあ'},\n",
              " {'text_input': 'くちゃくちゃ音を立てるな', 'output': 'おいしそうにたべはりますねえ'},\n",
              " {'text_input': '要らない', 'output': 'こんなお上品な物を'},\n",
              " {'text_input': 'がめついヤツですね', 'output': 'しっかしてはる'},\n",
              " {'text_input': 'こっちに来るな', 'output': 'お忙しいんと違いますの'},\n",
              " {'text_input': '帰れ', 'output': 'お茶要る？'},\n",
              " {'text_input': 'その程度の腕か', 'output': '何年目なん？'},\n",
              " {'text_input': 'ドアを閉めろ', 'output': '後ろから誰か来はりますの'},\n",
              " {'text_input': '気は確かか', 'output': 'どないしはったん'},\n",
              " {'text_input': 'そろそろ帰らんと', 'output': '（来客の人に対して）ゆっくりしていってください'},\n",
              " {'text_input': 'もう帰って', 'output': '（来客の人に対して）もう一杯いかがですか'},\n",
              " {'text_input': '駐輪禁止', 'output': '自転車捨て場：ご自由にお持ち帰りください'},\n",
              " {'text_input': 'ドアを開けっぱなしにするな', 'output': '誰かこの後来はるの？'},\n",
              " {'text_input': 'ドアを開けっぱなしにするな', 'output': 'これは風水か何かですか'},\n",
              " {'text_input': '要らない', 'output': 'こんなええもんもろてよろしいの'},\n",
              " {'text_input': '帰省しないよ', 'output': '（帰省をもとめられて）こっちからなんか送ってほしいものある？'},\n",
              " {'text_input': 'さっさと帰ってください', 'output': 'おかわりいかがですか'},\n",
              " {'text_input': 'しょうもないし面白くもない', 'output': '私あほやからそんな難しいことよう分かりませんわ'},\n",
              " {'text_input': 'お断りします', 'output': 'うちはややこしいこと分かりませんし、主人にきかんとお返事出来ませんわ'},\n",
              " {'text_input': 'アポなしで何の連絡もなく急に来られても迷惑ですよ。歓迎しないけどまさか家に入るんですか？',\n",
              "  'output': 'こんな狭いとこに、わざわざ遠くからすいませんなあ。何もおかまい出来ませんけどお入りやす？'},\n",
              " {'text_input': '関係の悪い人から無理な依頼をされて断りたい', 'output': 'うれしいですがもっと合ってる方探しましょうか？'},\n",
              " {'text_input': '来てほしくないお客さんから予約が入り断りたい',\n",
              "  'output': 'おおきに。また、ええときにお電話さしてもらいます'},\n",
              " {'text_input': '使えねえアイデアだなあ', 'output': 'それ面白おすなあ'},\n",
              " {'text_input': 'お断りします', 'output': 'うちにはもったいないお話です'},\n",
              " {'text_input': '習い事やサークルをやめたい', 'output': 'しばらく休ませてもらいます'},\n",
              " {'text_input': '帰ってください', 'output': 'この後用事あるんですよ'},\n",
              " {'text_input': '立ってトイレするな', 'output': 'うちのトイレ座り心地悪おすかもしれまへんけどよろしおしたらお使いやす'},\n",
              " {'text_input': '汚れた服で家に上がらないでください',\n",
              "  'output': 'えらいよそ行きのなりしはって。琵琶湖でも行ってきはったんどすか？'},\n",
              " {'text_input': 'くちゃくちゃ音を立てて食べないでください', 'output': '蕎麦はずるずるおいしそうに食べてもよろしおすねん'},\n",
              " {'text_input': '不要なチラシ入れないでください', 'output': 'ちっちゃい郵便受けしかおへんですんまへん'},\n",
              " {'text_input': '靴脱げ', 'output': 'あら、うちはぞうきんがけしたばっかどすにい'},\n",
              " {'text_input': '変なお土産だなあ', 'output': 'まあようこんなん見つけはりましたなあ'},\n",
              " {'text_input': '料理の味が濃いなあ', 'output': 'まあ、ようお味がしゅんでますなあ'},\n",
              " {'text_input': 'ブスやなあ', 'output': 'お顔立ちが個性的でいらっしゃいますなあ'},\n",
              " {'text_input': '暖房付けろ', 'output': '寒いのになれてはりますねえ'},\n",
              " {'text_input': 'ちゃんと聞けよ', 'output': '内は誰としゃべってたんやろ、思いましたわあ'},\n",
              " {'text_input': '見てないで手伝えよ', 'output': 'あらほんまにお上手に見てはるわ'},\n",
              " {'text_input': '声でかいよ', 'output': 'ええ声ですなあ、よお声が通りはりますわ'},\n",
              " {'text_input': 'よくしゃべるなあ', 'output': '口がお達者どすなあ'},\n",
              " {'text_input': '気きかんな', 'output': '何やうちが気回しすぎたんやね'},\n",
              " {'text_input': 'よくあんなこと言えるなあ', 'output': 'うちやったら恥ずかしゅうてよういいませんわ'},\n",
              " {'text_input': '昔だったら考えられない', 'output': '今はそんな風にいわはるんどすなあ'},\n",
              " {'text_input': 'ルールもマナーもないな', 'output': 'お宅んとこはほんまに自由でよろしおすなあ'},\n",
              " {'text_input': '余計なお世話だ', 'output': 'ようそないなとこまで気がまわりますなあ'},\n",
              " {'text_input': 'その話はもう十分です', 'output': 'うちにはよう分かりませんわ、頭悪うて'},\n",
              " {'text_input': '理解不能', 'output': 'ほんまうちとは別世界のおはなしやわ'},\n",
              " {'text_input': '自慢ばっかりだなあ', 'output': '偉いご立派なお話で'},\n",
              " {'text_input': '現実とずれてますね', 'output': 'ご自分ではそう思うてはるんやね'}]"
            ]
          },
          "metadata": {},
          "execution_count": 157
        }
      ]
    },
    {
      "cell_type": "code",
      "execution_count": 158,
      "metadata": {
        "id": "baHjHh1oTTTC"
      },
      "outputs": [],
      "source": [
        "name = f'ikezu-fine-tune'\n",
        "operation = genai.create_tuned_model(\n",
        "    # You can use a tuned model here too. Set `source_model=\"tunedModels/...\"`\n",
        "    source_model=base_model.name,\n",
        "    training_data=jsonl_data,\n",
        "    id = name,\n",
        "    epoch_count = 10,\n",
        "    batch_size=4,\n",
        "    learning_rate=0.001,\n",
        ")"
      ]
    },
    {
      "cell_type": "markdown",
      "metadata": {
        "id": "-As7ayWDK1w8"
      },
      "source": [
        "Your tuned model is immediately added to the list of tuned models, but its status is set to \"creating\" while the model is tuned."
      ]
    },
    {
      "cell_type": "code",
      "execution_count": 159,
      "metadata": {
        "id": "su64KgY4Uztj",
        "outputId": "63eff269-3ccb-4eb6-ecec-31a8ae99f6ce",
        "colab": {
          "base_uri": "https://localhost:8080/",
          "height": 344
        }
      },
      "outputs": [
        {
          "output_type": "execute_result",
          "data": {
            "text/plain": [
              "TunedModel(name='tunedModels/ikezu-fine-tune',\n",
              "           source_model='models/gemini-1.5-flash-001-tuning',\n",
              "           base_model='models/gemini-1.5-flash-001-tuning',\n",
              "           display_name='',\n",
              "           description='',\n",
              "           temperature=1.0,\n",
              "           top_p=0.95,\n",
              "           top_k=64,\n",
              "           state=<State.CREATING: 1>,\n",
              "           create_time=datetime.datetime(2025, 4, 23, 13, 52, 2, 342809, tzinfo=datetime.timezone.utc),\n",
              "           update_time=datetime.datetime(2025, 4, 23, 13, 52, 2, 342809, tzinfo=datetime.timezone.utc),\n",
              "           tuning_task=TuningTask(start_time=datetime.datetime(2025, 4, 23, 13, 52, 2, 632008, tzinfo=datetime.timezone.utc),\n",
              "                                  complete_time=None,\n",
              "                                  snapshots=[],\n",
              "                                  hyperparameters=Hyperparameters(epoch_count=10,\n",
              "                                                                  batch_size=4,\n",
              "                                                                  learning_rate=0.001)),\n",
              "           reader_project_numbers=None)"
            ]
          },
          "metadata": {},
          "execution_count": 159
        }
      ],
      "source": [
        "model = genai.get_tuned_model(f'tunedModels/{name}')\n",
        "\n",
        "model"
      ]
    },
    {
      "cell_type": "code",
      "execution_count": 160,
      "metadata": {
        "id": "EUodUwZkKPi-",
        "outputId": "d552df76-8663-4cfe-c54d-135851518b99",
        "colab": {
          "base_uri": "https://localhost:8080/"
        }
      },
      "outputs": [
        {
          "output_type": "execute_result",
          "data": {
            "text/plain": [
              "<State.CREATING: 1>"
            ]
          },
          "metadata": {},
          "execution_count": 160
        }
      ],
      "source": [
        "model.state"
      ]
    },
    {
      "cell_type": "markdown",
      "metadata": {
        "id": "Pi8X5vkQv-3_"
      },
      "source": [
        "### Check tuning progress"
      ]
    },
    {
      "cell_type": "markdown",
      "metadata": {
        "id": "tWI-vAh4LJIz"
      },
      "source": [
        "Use `metadata` to check the state:"
      ]
    },
    {
      "cell_type": "code",
      "execution_count": 161,
      "metadata": {
        "id": "g08vqtxYLMxT",
        "outputId": "45a63d88-78fe-4662-d6bc-c93683a95dd9",
        "colab": {
          "base_uri": "https://localhost:8080/"
        }
      },
      "outputs": [
        {
          "output_type": "execute_result",
          "data": {
            "text/plain": [
              "total_steps: 208\n",
              "tuned_model: \"tunedModels/ikezu-fine-tune\""
            ]
          },
          "metadata": {},
          "execution_count": 161
        }
      ],
      "source": [
        "operation.metadata"
      ]
    },
    {
      "cell_type": "markdown",
      "metadata": {
        "id": "3lQ6gSMgK-kz"
      },
      "source": [
        "Wait for the training to finish using `operation.result()`, or `operation.wait_bar()`"
      ]
    },
    {
      "cell_type": "code",
      "execution_count": 162,
      "metadata": {
        "id": "SOUowIv1HgSE",
        "outputId": "9e9e2fbe-2536-43ca-ffc7-142cd83b7cfc",
        "colab": {
          "base_uri": "https://localhost:8080/",
          "height": 49,
          "referenced_widgets": [
            "eec1732f9b4f4d3b92147d2c76ab5849",
            "043d82933d474ffb99c18db6d68a85d9",
            "5c6cdf24527d40fc92a169c0fb798efe",
            "d3bfabfd530e46c582a5239c136d42df",
            "4431c8aba2854f3e9b60fcc595169719",
            "8fc8f3579b4d4bc0837bac8e5972f311",
            "b25418bc80d444179992cb8690fe9e28",
            "32e7ca91c2f54eb29170b6690822e244",
            "001a1bd28a2e4b99aaf2d8939c26345a",
            "877ce8c377e7406e872d8e34384192af",
            "fbaaa6c3d6904ef7a534884dcc919080"
          ]
        }
      },
      "outputs": [
        {
          "output_type": "display_data",
          "data": {
            "text/plain": [
              "  0%|          | 0/208 [00:00<?, ?it/s]"
            ],
            "application/vnd.jupyter.widget-view+json": {
              "version_major": 2,
              "version_minor": 0,
              "model_id": "eec1732f9b4f4d3b92147d2c76ab5849"
            }
          },
          "metadata": {}
        }
      ],
      "source": [
        "import time\n",
        "\n",
        "for status in operation.wait_bar():\n",
        "  time.sleep(30)"
      ]
    },
    {
      "cell_type": "markdown",
      "metadata": {
        "id": "4cg868HzqOx5"
      },
      "source": [
        "You can cancel your tuning job any time using the `cancel()` method. Uncomment the line below and run the code cell to cancel your job before it finishes."
      ]
    },
    {
      "cell_type": "code",
      "execution_count": null,
      "metadata": {
        "id": "oQuJ70_hqJi9"
      },
      "outputs": [],
      "source": [
        "# operation.cancel()"
      ]
    },
    {
      "cell_type": "markdown",
      "metadata": {
        "id": "lqiL0TWDqAPn"
      },
      "source": [
        "Once the tuning is complete, you can view the loss curve from the tuning results. The [loss curve](https://ai.google.dev/gemini-api/docs/model-tuning#recommended_configurations) shows how much the model's predictions deviate from the ideal outputs."
      ]
    },
    {
      "cell_type": "code",
      "execution_count": 163,
      "metadata": {
        "id": "bIiG57xWLhP7",
        "outputId": "140138e9-9566-4ed4-fc07-163297dee983",
        "colab": {
          "base_uri": "https://localhost:8080/",
          "height": 467
        }
      },
      "outputs": [
        {
          "output_type": "execute_result",
          "data": {
            "text/plain": [
              "<Axes: xlabel='epoch', ylabel='mean_loss'>"
            ]
          },
          "metadata": {},
          "execution_count": 163
        },
        {
          "output_type": "display_data",
          "data": {
            "text/plain": [
              "<Figure size 640x480 with 1 Axes>"
            ],
            "image/png": "[encoded data removed]"
          },
          "metadata": {}
        }
      ],
      "source": [
        "import pandas as pd\n",
        "import seaborn as sns\n",
        "\n",
        "model = operation.result()\n",
        "\n",
        "snapshots = pd.DataFrame(model.tuning_task.snapshots)\n",
        "\n",
        "sns.lineplot(data=snapshots, x = 'epoch', y='mean_loss')\n"
      ]
    },
    {
      "cell_type": "markdown",
      "metadata": {
        "id": "rkoQTXb1vSBC"
      },
      "source": [
        "## Evaluate your model\n",
        "\n",
        "You can use the `genai.generate_content` method and specify the name of your model to test your model performance."
      ]
    },
    {
      "cell_type": "code",
      "execution_count": 164,
      "metadata": {
        "id": "zO0YcuSyxydZ"
      },
      "outputs": [],
      "source": [
        "model = genai.GenerativeModel(model_name=f'tunedModels/{name}')"
      ]
    },
    {
      "cell_type": "code",
      "execution_count": 174,
      "metadata": {
        "id": "UwGrrj6hS_x2",
        "outputId": "6662664d-e753-489e-f187-3e865d5d9579",
        "colab": {
          "base_uri": "https://localhost:8080/",
          "height": 36
        }
      },
      "outputs": [
        {
          "output_type": "execute_result",
          "data": {
            "text/plain": [
              "'えええ、もうそんな時間ですか？月がきれいですねえ'"
            ],
            "application/vnd.google.colaboratory.intrinsic+json": {
              "type": "string"
            }
          },
          "metadata": {},
          "execution_count": 174
        }
      ],
      "source": [
        "result = model.generate_content('そろそろお帰りください')\n",
        "result.text"
      ]
    },
    {
      "cell_type": "code",
      "execution_count": 173,
      "metadata": {
        "id": "YSNB2zjTx5SZ",
        "outputId": "965fb5d8-f084-403c-d773-01a27993ca0a",
        "colab": {
          "base_uri": "https://localhost:8080/",
          "height": 36
        }
      },
      "outputs": [
        {
          "output_type": "execute_result",
          "data": {
            "text/plain": [
              "'えええ、がめついのはええけどちょっとええ落とさせてもらいましたわ'"
            ],
            "application/vnd.google.colaboratory.intrinsic+json": {
              "type": "string"
            }
          },
          "metadata": {},
          "execution_count": 173
        }
      ],
      "source": [
        "result = model.generate_content('がめついなあ')\n",
        "result.text"
      ]
    },
    {
      "cell_type": "code",
      "execution_count": 175,
      "metadata": {
        "id": "Y2YVO-m0Ut9H",
        "outputId": "60c3a624-0124-4130-a266-3d5af35d215a",
        "colab": {
          "base_uri": "https://localhost:8080/",
          "height": 36
        }
      },
      "outputs": [
        {
          "output_type": "execute_result",
          "data": {
            "text/plain": [
              "'あら、しぶいことおっしゃいますなあ'"
            ],
            "application/vnd.google.colaboratory.intrinsic+json": {
              "type": "string"
            }
          },
          "metadata": {},
          "execution_count": 175
        }
      ],
      "source": [
        "result = model.generate_content('うるさいなあ')\n",
        "result.text"
      ]
    },
    {
      "cell_type": "code",
      "execution_count": 177,
      "metadata": {
        "id": "h2MkTR0uTb6U",
        "outputId": "6d6506fa-2a9a-450a-e696-43fd1857a45a",
        "colab": {
          "base_uri": "https://localhost:8080/",
          "height": 36
        }
      },
      "outputs": [
        {
          "output_type": "execute_result",
          "data": {
            "text/plain": [
              "'あら、そない言われてもうたわ。もっとええ返事出来たらええねんけどなぁ。こんな風に思ってくれてはるんやなぁ'"
            ],
            "application/vnd.google.colaboratory.intrinsic+json": {
              "type": "string"
            }
          },
          "metadata": {},
          "execution_count": 177
        }
      ],
      "source": [
        "result = model.generate_content('おもんない') # French 4\n",
        "result.text                               # French 5 is \"cinq\""
      ]
    },
    {
      "cell_type": "code",
      "execution_count": 178,
      "metadata": {
        "id": "OruCW1zETsZw",
        "outputId": "99895f98-347d-4857-e0db-b9f6dcfb487d",
        "colab": {
          "base_uri": "https://localhost:8080/",
          "height": 36
        }
      },
      "outputs": [
        {
          "output_type": "execute_result",
          "data": {
            "text/plain": [
              "'天気予報は明後日にならないとあてになおませんわ。'"
            ],
            "application/vnd.google.colaboratory.intrinsic+json": {
              "type": "string"
            }
          },
          "metadata": {},
          "execution_count": 178
        }
      ],
      "source": [
        "result = model.generate_content('明日の天気は？')    # Roman numeral 3\n",
        "result.text                               # Roman numeral 4 is IV"
      ]
    },
    {
      "cell_type": "code",
      "execution_count": 180,
      "metadata": {
        "id": "thDdSuUDUJOx",
        "outputId": "63cc3bfe-6538-4c4a-a024-efa5c9e38345",
        "colab": {
          "base_uri": "https://localhost:8080/",
          "height": 36
        }
      },
      "outputs": [
        {
          "output_type": "execute_result",
          "data": {
            "text/plain": [
              "'うち、口臭するんかなあ。しゅうねんまえに歯医者行ってきたけど、なにかようあるんかなあ。'"
            ],
            "application/vnd.google.colaboratory.intrinsic+json": {
              "type": "string"
            }
          },
          "metadata": {},
          "execution_count": 180
        }
      ],
      "source": [
        "result = model.generate_content('口くさいで')  # Japanese 7\n",
        "result.text                            # Japanese 8 is 八!"
      ]
    },
    {
      "cell_type": "markdown",
      "metadata": {
        "id": "HpIA1IFevQQR"
      },
      "source": [
        "It really seems to have picked up the task despite the limited examples, but \"next\" is a simple concept, see the [tuning guide](https://ai.google.dev/gemini-api/docs/model-tuning) for more guidance on improving performance."
      ]
    },
    {
      "cell_type": "markdown",
      "metadata": {
        "id": "nmuQCbTYwIOx"
      },
      "source": [
        "## Update the description\n",
        "\n",
        "You can update the description of your tuned model any time using the `genai.update_tuned_model` method."
      ]
    },
    {
      "cell_type": "code",
      "execution_count": null,
      "metadata": {
        "id": "9gAVuXT_wG3x"
      },
      "outputs": [],
      "source": [
        "genai.update_tuned_model(f'tunedModels/{name}', {\"description\":\"This is my model.\"});"
      ]
    },
    {
      "cell_type": "code",
      "execution_count": null,
      "metadata": {
        "id": "d-c3YerBxVYs",
        "outputId": "a4ffc9e9-3742-497c-b3f9-7dea9ed8d6bf"
      },
      "outputs": [
        {
          "data": {
            "application/vnd.google.colaboratory.intrinsic+json": {
              "type": "string"
            },
            "text/plain": [
              "'This is my model.'"
            ]
          },
          "execution_count": 22,
          "metadata": {},
          "output_type": "execute_result"
        }
      ],
      "source": [
        "model = genai.get_tuned_model(f'tunedModels/{name}')\n",
        "\n",
        "model.description"
      ]
    },
    {
      "cell_type": "markdown",
      "metadata": {
        "id": "i_TpwvBB4bQ7"
      },
      "source": [
        "## Delete the model\n",
        "\n",
        "You can clean up your tuned model list by deleting models you no longer need. Use the `genai.delete_tuned_model` method to delete a model. If you canceled any tuning jobs, you may want to delete those as their performance may be unpredictable."
      ]
    },
    {
      "cell_type": "code",
      "execution_count": null,
      "metadata": {
        "id": "cepfaUCvVGCo"
      },
      "outputs": [],
      "source": [
        "genai.delete_tuned_model(f'tunedModels/{name}')"
      ]
    },
    {
      "cell_type": "markdown",
      "metadata": {
        "id": "ljEssIshYDEr"
      },
      "source": [
        "The model no longer exists:"
      ]
    },
    {
      "cell_type": "code",
      "execution_count": null,
      "metadata": {
        "id": "kN_bkut_4ayL",
        "outputId": "9a0b937c-35de-49b4-b923-be76e9e4d5b7"
      },
      "outputs": [
        {
          "name": "stdout",
          "output_type": "stream",
          "text": [
            "<class 'google.api_core.exceptions.NotFound'>: 404 GET https://generativelanguage.googleapis.com/v1beta/tunedModels/generate-num-8122?%24alt=json%3Benum-encoding%3Dint: Tuned model tunedModels/generate-num-8122 does not exist.\n"
          ]
        },
        {
          "name": "stderr",
          "output_type": "stream",
          "text": [
            "WARNING:tornado.access:404 GET /v1beta/tunedModels/generate-num-8122?%24alt=json%3Benum-encoding%3Dint (127.0.0.1) 838.85ms\n"
          ]
        }
      ],
      "source": [
        "try:\n",
        "  m = genai.get_tuned_model(f'tunedModels/{name}')\n",
        "  print(m)\n",
        "except Exception as e:\n",
        "  print(f\"{type(e)}: {e}\")"
      ]
    }
  ],
  "metadata": {
    "colab": {
      "name": "python.ipynb",
      "provenance": []
    },
    "kernelspec": {
      "display_name": "Python 3",
      "name": "python3"
    },
    "widgets": {
      "application/vnd.jupyter.widget-state+json": {
        "eec1732f9b4f4d3b92147d2c76ab5849": {
          "model_module": "@jupyter-widgets/controls",
          "model_name": "HBoxModel",
          "model_module_version": "1.5.0",
          "state": {
            "_dom_classes": [],
            "_model_module": "@jupyter-widgets/controls",
            "_model_module_version": "1.5.0",
            "_model_name": "HBoxModel",
            "_view_count": null,
            "_view_module": "@jupyter-widgets/controls",
            "_view_module_version": "1.5.0",
            "_view_name": "HBoxView",
            "box_style": "",
            "children": [
              "IPY_MODEL_043d82933d474ffb99c18db6d68a85d9",
              "IPY_MODEL_5c6cdf24527d40fc92a169c0fb798efe",
              "IPY_MODEL_d3bfabfd530e46c582a5239c136d42df"
            ],
            "layout": "IPY_MODEL_4431c8aba2854f3e9b60fcc595169719"
          }
        },
        "043d82933d474ffb99c18db6d68a85d9": {
          "model_module": "@jupyter-widgets/controls",
          "model_name": "HTMLModel",
          "model_module_version": "1.5.0",
          "state": {
            "_dom_classes": [],
            "_model_module": "@jupyter-widgets/controls",
            "_model_module_version": "1.5.0",
            "_model_name": "HTMLModel",
            "_view_count": null,
            "_view_module": "@jupyter-widgets/controls",
            "_view_module_version": "1.5.0",
            "_view_name": "HTMLView",
            "description": "",
            "description_tooltip": null,
            "layout": "IPY_MODEL_8fc8f3579b4d4bc0837bac8e5972f311",
            "placeholder": "​",
            "style": "IPY_MODEL_b25418bc80d444179992cb8690fe9e28",
            "value": "100%"
          }
        },
        "5c6cdf24527d40fc92a169c0fb798efe": {
          "model_module": "@jupyter-widgets/controls",
          "model_name": "FloatProgressModel",
          "model_module_version": "1.5.0",
          "state": {
            "_dom_classes": [],
            "_model_module": "@jupyter-widgets/controls",
            "_model_module_version": "1.5.0",
            "_model_name": "FloatProgressModel",
            "_view_count": null,
            "_view_module": "@jupyter-widgets/controls",
            "_view_module_version": "1.5.0",
            "_view_name": "ProgressView",
            "bar_style": "success",
            "description": "",
            "description_tooltip": null,
            "layout": "IPY_MODEL_32e7ca91c2f54eb29170b6690822e244",
            "max": 208,
            "min": 0,
            "orientation": "horizontal",
            "style": "IPY_MODEL_001a1bd28a2e4b99aaf2d8939c26345a",
            "value": 208
          }
        },
        "d3bfabfd530e46c582a5239c136d42df": {
          "model_module": "@jupyter-widgets/controls",
          "model_name": "HTMLModel",
          "model_module_version": "1.5.0",
          "state": {
            "_dom_classes": [],
            "_model_module": "@jupyter-widgets/controls",
            "_model_module_version": "1.5.0",
            "_model_name": "HTMLModel",
            "_view_count": null,
            "_view_module": "@jupyter-widgets/controls",
            "_view_module_version": "1.5.0",
            "_view_name": "HTMLView",
            "description": "",
            "description_tooltip": null,
            "layout": "IPY_MODEL_877ce8c377e7406e872d8e34384192af",
            "placeholder": "​",
            "style": "IPY_MODEL_fbaaa6c3d6904ef7a534884dcc919080",
            "value": " 208/208 [09:35&lt;00:00,  2.41s/it]"
          }
        },
        "4431c8aba2854f3e9b60fcc595169719": {
          "model_module": "@jupyter-widgets/base",
          "model_name": "LayoutModel",
          "model_module_version": "1.2.0",
          "state": {
            "_model_module": "@jupyter-widgets/base",
            "_model_module_version": "1.2.0",
            "_model_name": "LayoutModel",
            "_view_count": null,
            "_view_module": "@jupyter-widgets/base",
            "_view_module_version": "1.2.0",
            "_view_name": "LayoutView",
            "align_content": null,
            "align_items": null,
            "align_self": null,
            "border": null,
            "bottom": null,
            "display": null,
            "flex": null,
            "flex_flow": null,
            "grid_area": null,
            "grid_auto_columns": null,
            "grid_auto_flow": null,
            "grid_auto_rows": null,
            "grid_column": null,
            "grid_gap": null,
            "grid_row": null,
            "grid_template_areas": null,
            "grid_template_columns": null,
            "grid_template_rows": null,
            "height": null,
            "justify_content": null,
            "justify_items": null,
            "left": null,
            "margin": null,
            "max_height": null,
            "max_width": null,
            "min_height": null,
            "min_width": null,
            "object_fit": null,
            "object_position": null,
            "order": null,
            "overflow": null,
            "overflow_x": null,
            "overflow_y": null,
            "padding": null,
            "right": null,
            "top": null,
            "visibility": null,
            "width": null
          }
        },
        "8fc8f3579b4d4bc0837bac8e5972f311": {
          "model_module": "@jupyter-widgets/base",
          "model_name": "LayoutModel",
          "model_module_version": "1.2.0",
          "state": {
            "_model_module": "@jupyter-widgets/base",
            "_model_module_version": "1.2.0",
            "_model_name": "LayoutModel",
            "_view_count": null,
            "_view_module": "@jupyter-widgets/base",
            "_view_module_version": "1.2.0",
            "_view_name": "LayoutView",
            "align_content": null,
            "align_items": null,
            "align_self": null,
            "border": null,
            "bottom": null,
            "display": null,
            "flex": null,
            "flex_flow": null,
            "grid_area": null,
            "grid_auto_columns": null,
            "grid_auto_flow": null,
            "grid_auto_rows": null,
            "grid_column": null,
            "grid_gap": null,
            "grid_row": null,
            "grid_template_areas": null,
            "grid_template_columns": null,
            "grid_template_rows": null,
            "height": null,
            "justify_content": null,
            "justify_items": null,
            "left": null,
            "margin": null,
            "max_height": null,
            "max_width": null,
            "min_height": null,
            "min_width": null,
            "object_fit": null,
            "object_position": null,
            "order": null,
            "overflow": null,
            "overflow_x": null,
            "overflow_y": null,
            "padding": null,
            "right": null,
            "top": null,
            "visibility": null,
            "width": null
          }
        },
        "b25418bc80d444179992cb8690fe9e28": {
          "model_module": "@jupyter-widgets/controls",
          "model_name": "DescriptionStyleModel",
          "model_module_version": "1.5.0",
          "state": {
            "_model_module": "@jupyter-widgets/controls",
            "_model_module_version": "1.5.0",
            "_model_name": "DescriptionStyleModel",
            "_view_count": null,
            "_view_module": "@jupyter-widgets/base",
            "_view_module_version": "1.2.0",
            "_view_name": "StyleView",
            "description_width": ""
          }
        },
        "32e7ca91c2f54eb29170b6690822e244": {
          "model_module": "@jupyter-widgets/base",
          "model_name": "LayoutModel",
          "model_module_version": "1.2.0",
          "state": {
            "_model_module": "@jupyter-widgets/base",
            "_model_module_version": "1.2.0",
            "_model_name": "LayoutModel",
            "_view_count": null,
            "_view_module": "@jupyter-widgets/base",
            "_view_module_version": "1.2.0",
            "_view_name": "LayoutView",
            "align_content": null,
            "align_items": null,
            "align_self": null,
            "border": null,
            "bottom": null,
            "display": null,
            "flex": null,
            "flex_flow": null,
            "grid_area": null,
            "grid_auto_columns": null,
            "grid_auto_flow": null,
            "grid_auto_rows": null,
            "grid_column": null,
            "grid_gap": null,
            "grid_row": null,
            "grid_template_areas": null,
            "grid_template_columns": null,
            "grid_template_rows": null,
            "height": null,
            "justify_content": null,
            "justify_items": null,
            "left": null,
            "margin": null,
            "max_height": null,
            "max_width": null,
            "min_height": null,
            "min_width": null,
            "object_fit": null,
            "object_position": null,
            "order": null,
            "overflow": null,
            "overflow_x": null,
            "overflow_y": null,
            "padding": null,
            "right": null,
            "top": null,
            "visibility": null,
            "width": null
          }
        },
        "001a1bd28a2e4b99aaf2d8939c26345a": {
          "model_module": "@jupyter-widgets/controls",
          "model_name": "ProgressStyleModel",
          "model_module_version": "1.5.0",
          "state": {
            "_model_module": "@jupyter-widgets/controls",
            "_model_module_version": "1.5.0",
            "_model_name": "ProgressStyleModel",
            "_view_count": null,
            "_view_module": "@jupyter-widgets/base",
            "_view_module_version": "1.2.0",
            "_view_name": "StyleView",
            "bar_color": null,
            "description_width": ""
          }
        },
        "877ce8c377e7406e872d8e34384192af": {
          "model_module": "@jupyter-widgets/base",
          "model_name": "LayoutModel",
          "model_module_version": "1.2.0",
          "state": {
            "_model_module": "@jupyter-widgets/base",
            "_model_module_version": "1.2.0",
            "_model_name": "LayoutModel",
            "_view_count": null,
            "_view_module": "@jupyter-widgets/base",
            "_view_module_version": "1.2.0",
            "_view_name": "LayoutView",
            "align_content": null,
            "align_items": null,
            "align_self": null,
            "border": null,
            "bottom": null,
            "display": null,
            "flex": null,
            "flex_flow": null,
            "grid_area": null,
            "grid_auto_columns": null,
            "grid_auto_flow": null,
            "grid_auto_rows": null,
            "grid_column": null,
            "grid_gap": null,
            "grid_row": null,
            "grid_template_areas": null,
            "grid_template_columns": null,
            "grid_template_rows": null,
            "height": null,
            "justify_content": null,
            "justify_items": null,
            "left": null,
            "margin": null,
            "max_height": null,
            "max_width": null,
            "min_height": null,
            "min_width": null,
            "object_fit": null,
            "object_position": null,
            "order": null,
            "overflow": null,
            "overflow_x": null,
            "overflow_y": null,
            "padding": null,
            "right": null,
            "top": null,
            "visibility": null,
            "width": null
          }
        },
        "fbaaa6c3d6904ef7a534884dcc919080": {
          "model_module": "@jupyter-widgets/controls",
          "model_name": "DescriptionStyleModel",
          "model_module_version": "1.5.0",
          "state": {
            "_model_module": "@jupyter-widgets/controls",
            "_model_module_version": "1.5.0",
            "_model_name": "DescriptionStyleModel",
            "_view_count": null,
            "_view_module": "@jupyter-widgets/base",
            "_view_module_version": "1.2.0",
            "_view_name": "StyleView",
            "description_width": ""
          }
        }
      }
    }
  },
  "nbformat": 4,
  "nbformat_minor": 0
}